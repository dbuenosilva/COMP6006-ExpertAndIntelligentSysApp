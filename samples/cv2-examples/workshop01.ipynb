{
  "nbformat": 4,
  "nbformat_minor": 0,
  "metadata": {
    "colab": {
      "name": "workshop01.ipynb",
      "provenance": [],
      "collapsed_sections": [],
      "authorship_tag": "ABX9TyNhQ6o6UcQLzL7nOTGWGiVL",
      "include_colab_link": true
    },
    "kernelspec": {
      "name": "python3",
      "display_name": "Python 3"
    },
    "language_info": {
      "name": "python"
    }
  },
  "cells": [
    {
      "cell_type": "markdown",
      "metadata": {
        "id": "view-in-github",
        "colab_type": "text"
      },
      "source": [
        "<a href=\"https://colab.research.google.com/github/dbuenosilva/COMP6006-ExpertAndIntelligentSysApp/blob/master/workshop01.ipynb\" target=\"_parent\"><img src=\"https://colab.research.google.com/assets/colab-badge.svg\" alt=\"Open In Colab\"/></a>"
      ]
    },
    {
      "cell_type": "markdown",
      "metadata": {
        "id": "wkcFHLBSxxG1"
      },
      "source": [
        "\n",
        "**Activity 01 of workshop 01**\n",
        "\n",
        "---\n",
        "\n",
        "\n",
        "Date: 10/07/2021 Author: Diego Bueno da Silva \n",
        "e-mail: d.bueno.da.silva.10@student.scu.edu.au ID: 23567850\n",
        "\n",
        "Practising OpenCV\n",
        "\n",
        "Credits: https://jspaint.app/"
      ]
    },
    {
      "cell_type": "code",
      "metadata": {
        "colab": {
          "base_uri": "https://localhost:8080/",
          "height": 232
        },
        "id": "XALc0dvMxdXK",
        "outputId": "a6db667a-b145-4a02-f3d0-0ce1d3d6754b"
      },
      "source": [
        "import cv2\n",
        "import sys\n",
        "import pathlib\n",
        "\n",
        "path = str(pathlib.Path(__file__).resolve().parent) + \"/\"\n",
        "sys.path.append(path)\n",
        "\n",
        "####################################################### \n",
        "# Activity 01 - Reading an image and showing the      #\n",
        "# values of pixels in the first row of the image.     #\n",
        "#######################################################\n",
        "\n",
        "#\tcv2.IMREAD_COLOR or 1: Read the image in colour mode.\n",
        "#\tcv2.IMREAD_GRAYSCALE or 0: Read the image in grayscale mode.\n",
        "#\tcv2.IMREAD_UNCHANGED or -1: Read the image with alpha channels.\n",
        "\n",
        "testingImg = cv2.imread(path + \"test.png\", cv2.IMREAD_GRAYSCALE)\n",
        "\n",
        "if len(testingImg) > 0:\n",
        "    \n",
        "    print(\"First row value prixels:\\n\")\n",
        "    print(testingImg[0:1,:]) ## all white ( 255  )"
      ],
      "execution_count": 1,
      "outputs": [
        {
          "output_type": "error",
          "ename": "NameError",
          "evalue": "ignored",
          "traceback": [
            "\u001b[0;31m---------------------------------------------------------------------------\u001b[0m",
            "\u001b[0;31mNameError\u001b[0m                                 Traceback (most recent call last)",
            "\u001b[0;32m<ipython-input-1-f06c517038a1>\u001b[0m in \u001b[0;36m<module>\u001b[0;34m()\u001b[0m\n\u001b[1;32m      3\u001b[0m \u001b[0;32mimport\u001b[0m \u001b[0mpathlib\u001b[0m\u001b[0;34m\u001b[0m\u001b[0;34m\u001b[0m\u001b[0m\n\u001b[1;32m      4\u001b[0m \u001b[0;34m\u001b[0m\u001b[0m\n\u001b[0;32m----> 5\u001b[0;31m \u001b[0mpath\u001b[0m \u001b[0;34m=\u001b[0m \u001b[0mstr\u001b[0m\u001b[0;34m(\u001b[0m\u001b[0mpathlib\u001b[0m\u001b[0;34m.\u001b[0m\u001b[0mPath\u001b[0m\u001b[0;34m(\u001b[0m\u001b[0m__file__\u001b[0m\u001b[0;34m)\u001b[0m\u001b[0;34m.\u001b[0m\u001b[0mresolve\u001b[0m\u001b[0;34m(\u001b[0m\u001b[0;34m)\u001b[0m\u001b[0;34m.\u001b[0m\u001b[0mparent\u001b[0m\u001b[0;34m)\u001b[0m \u001b[0;34m+\u001b[0m \u001b[0;34m\"/\"\u001b[0m\u001b[0;34m\u001b[0m\u001b[0;34m\u001b[0m\u001b[0m\n\u001b[0m\u001b[1;32m      6\u001b[0m \u001b[0msys\u001b[0m\u001b[0;34m.\u001b[0m\u001b[0mpath\u001b[0m\u001b[0;34m.\u001b[0m\u001b[0mappend\u001b[0m\u001b[0;34m(\u001b[0m\u001b[0mpath\u001b[0m\u001b[0;34m)\u001b[0m\u001b[0;34m\u001b[0m\u001b[0;34m\u001b[0m\u001b[0m\n\u001b[1;32m      7\u001b[0m \u001b[0;34m\u001b[0m\u001b[0m\n",
            "\u001b[0;31mNameError\u001b[0m: name '__file__' is not defined"
          ]
        }
      ]
    },
    {
      "cell_type": "markdown",
      "metadata": {
        "id": "BEZtvsENxtcW"
      },
      "source": [
        ""
      ]
    }
  ]
}