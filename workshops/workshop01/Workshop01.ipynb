{
 "cells": [
  {
   "cell_type": "markdown",
   "metadata": {},
   "source": [
    "# Workshop 01"
   ]
  },
  {
   "cell_type": "code",
   "execution_count": 3,
   "metadata": {},
   "outputs": [
    {
     "name": "stdout",
     "output_type": "stream",
     "text": [
      "Python 3.9.6\r\n"
     ]
    }
   ],
   "source": [
    "!python --version\n"
   ]
  },
  {
   "cell_type": "code",
   "execution_count": 7,
   "metadata": {},
   "outputs": [
    {
     "name": "stdout",
     "output_type": "stream",
     "text": [
      "Collecting opencv-python\n",
      "  Downloading opencv_python-4.5.3.56-cp37-cp37m-macosx_10_15_x86_64.whl (42.6 MB)\n",
      "\u001b[K     |████████████████████████████████| 42.6 MB 2.4 MB/s eta 0:00:01\n",
      "\u001b[?25hRequirement already satisfied: numpy>=1.14.5 in /opt/anaconda3/envs/tf/lib/python3.7/site-packages (from opencv-python) (1.19.2)\n",
      "Installing collected packages: opencv-python\n",
      "Successfully installed opencv-python-4.5.3.56\n",
      "Note: you may need to restart the kernel to use updated packages.\n"
     ]
    }
   ],
   "source": [
    "pip install opencv-python"
   ]
  },
  {
   "cell_type": "code",
   "execution_count": 2,
   "metadata": {},
   "outputs": [
    {
     "name": "stdout",
     "output_type": "stream",
     "text": [
      "Requirement already satisfied: opencv-contrib-python in /opt/anaconda3/envs/tf/lib/python3.7/site-packages (4.5.2.54)\n",
      "Requirement already satisfied: numpy>=1.14.5 in /opt/anaconda3/envs/tf/lib/python3.7/site-packages (from opencv-contrib-python) (1.19.2)\n",
      "Note: you may need to restart the kernel to use updated packages.\n"
     ]
    }
   ],
   "source": [
    "pip install opencv-contrib-python"
   ]
  },
  {
   "cell_type": "code",
   "execution_count": 1,
   "metadata": {
    "scrolled": true
   },
   "outputs": [
    {
     "name": "stdout",
     "output_type": "stream",
     "text": [
      "Requirement already satisfied: Pillow in /opt/anaconda3/envs/tf/lib/python3.7/site-packages (8.1.1)\n",
      "Note: you may need to restart the kernel to use updated packages.\n"
     ]
    }
   ],
   "source": [
    "pip install Pillow"
   ]
  },
  {
   "cell_type": "markdown",
   "metadata": {},
   "source": [
    "# Activity 01 of workshop 01\n",
    "\n",
    "Date: 10/07/2021 Author: Diego Bueno da Silva e-mail: d.bueno.da.silva.10@student.scu.edu.au ID: 23567850\n",
    "\n",
    "Practising OpenCV\n",
    "\n",
    "Credits: https://jspaint.app/"
   ]
  },
  {
   "cell_type": "code",
   "execution_count": 12,
   "metadata": {
    "scrolled": true
   },
   "outputs": [
    {
     "name": "stdout",
     "output_type": "stream",
     "text": [
      "/Users/diego/workspace/spyder/COMP6006-ExpertAndIntelligentSysApp/workshops/workshop01/\n",
      "First row value prixels:\n",
      "\n",
      "[[255 255 255 255 255 255 255 255 255 255 255 255 255 255 255 255 255 255\n",
      "  255 255 255 255 255 255 255 255 255 255 255 255 255 255 255 255 255 255\n",
      "  255 255 255 255 255 255 255 255 255 255 255 255 255 255 255 255 255 255\n",
      "  255 255 255 255 255 255 255 255 255 255 255 255 255 255 255 255 255 255\n",
      "  255 255 255 255 255 255 255 255 255 255 255 255 255 255 255 255 255 255\n",
      "  255 255 255 255 255 255 255 255 255 255 255 255 255 255 255 255 255 255\n",
      "  255 255 255 255 255 255 255 255 255 255 255 255 255 255 255 255 255 255\n",
      "  255 255 255 255 255 255 255 255 255 255 255 255 255 255 255 255 255 255\n",
      "  255 255 255 255 255 255 255 255 255 255 255 255 255 255 255 255 255 255\n",
      "  255 255 255 255 255 255 255 255 255 255 255 255 255 255 255 255 255 255\n",
      "  255 255 255 255 255 255 255 255 255 255 255 255 255 255 255 255 255 255\n",
      "  255 255 255 255 255 255 255 255 255 255 255 255 255 255 255 255 255 255\n",
      "  255 255 255 255 255 255 255 255 255 255 255 255 255 255 255 255 255 255\n",
      "  255 255 255 255 255 255 255 255 255 255 255 255 255 255 255 255 255 255\n",
      "  255 255 255 255 255 255 255 255 255 255 255 255 255 255 255 255 255 255\n",
      "  255 255 255 255 255 255 255 255 255 255 255 255 255 255 255 255 255 255\n",
      "  255 255 255 255 255 255 255 255 255 255 255 255 255 255 255 255 255 255\n",
      "  255 255 255 255 255 255 255 255 255 255 255 255 255 255 255 255 255 255\n",
      "  255 255 255 255 255 255 255 255 255 255 255 255 255 255 255 255 255 255\n",
      "  255 255 255 255 255 255 255 255 255 255 255 255 255 255 255 255 255 255\n",
      "  255 255 255 255 255 255 255 255 255 255 255 255 255 255 255 255 255 255\n",
      "  255 255 255 255 255 255 255 255 255 255 255 255 255 255 255 255 255 255\n",
      "  255 255 255 255 255 255 255 255 255 255 255 255 255 255 255 255 255 255\n",
      "  255 255 255 255 255 255 255 255 255 255 255 255 255 255 255 255 255 255\n",
      "  255 255 255 255 255 255 255 255 255 255 255 255 255 255 255 255 255 255\n",
      "  255 255 255 255 255 255 255 255 255 255 255 255 255 255 255 255 255 255\n",
      "  255 255 255 255 255 255 255 255 255 255 255 255 255 255 255 255 255 255\n",
      "  255 255 255 255 255 255 255 255 255 255 255 255 255 255 255 255 255 255\n",
      "  255 255 255 255 255 255 255 255 255 255 255 255 255 255 255 255 255 255\n",
      "  255 255 255 255 255 255 255 255 255 255 255 255 255 255 255 255 255 255\n",
      "  255 255 255 255 255 255 255 255 255 255 255 255 255 255 255 255 255 255\n",
      "  255 255 255 255 255 255 255 255 255 255 255 255 255 255 255 255 255 255\n",
      "  255 255 255 255 255 255 255 255 255 255 255 255 255 255 255 255 255 255\n",
      "  255 255 255 255 255 255 255 255 255 255 255 255 255 255 255 255 255 255\n",
      "  255 255 255 255 255 255 255 255 255 255 255 255 255 255 255 255 255 255\n",
      "  255 255 255 255 255 255 255 255 255 255 255 255 255 255 255 255 255 255\n",
      "  255 255 255 255 255 255 255 255 255 255 255 255 255 255 255 255 255 255\n",
      "  255 255 255 255 255 255 255 255 255 255 255 255 255 255 255 255 255]]\n"
     ]
    }
   ],
   "source": [
    "import cv2\n",
    "import sys\n",
    "import sys\n",
    "import pathlib\n",
    "\n",
    "path = str(pathlib.Path().resolve()) + \"/\"\n",
    "sys.path.append(path)\n",
    "####################################################### \n",
    "# Activity 01 - Reading an image and showing the      #\n",
    "# values of pixels in the first row of the image.     #\n",
    "#######################################################\n",
    "\n",
    "#cv2.IMREAD_COLOR or 1: Read the image in colour mode.\n",
    "#cv2.IMREAD_GRAYSCALE or 0: Read the image in grayscale mode.\n",
    "#cv2.IMREAD_UNCHANGED or -1: Read the image with alpha channels.\n",
    "print(path)\n",
    "testingImg = cv2.imread(\"/Users/diego/workspace/spyder/COMP6006-ExpertAndIntelligentSysApp/workshops/workshop01/test.png\", 0)\n",
    "\n",
    "if len(testingImg) > 0:\n",
    "    \n",
    "    print(\"First row value prixels:\\n\")\n",
    "    print(testingImg[0:1,:]) ## all white ( 255  )"
   ]
  },
  {
   "cell_type": "markdown",
   "metadata": {},
   "source": [
    "# Activity 02 of workshop 01\n",
    "Date: 10/07/2021\n",
    "Author: Diego Bueno da Silva\n",
    "e-mail: d.bueno.da.silva.10@student.scu.edu.au\n",
    "ID: 23567850\n",
    "\n",
    " Practising OpenCV \n",
    "\n",
    "Credits: https://jspaint.app/\n",
    "\n",
    "Issue with MacOS:\n",
    "    https://github.com/mluerig/phenopype/issues/5\n",
    "    https://stackoverflow.com/questions/6116564/destroywindow-does-not-close-window-on-mac-using-python-and-opencv\n",
    "\n"
   ]
  },
  {
   "cell_type": "code",
   "execution_count": 13,
   "metadata": {},
   "outputs": [
    {
     "name": "stdout",
     "output_type": "stream",
     "text": [
      "/Users/diego/workspace/spyder/COMP6006-ExpertAndIntelligentSysApp/workshops/workshop01/test.png\n"
     ]
    },
    {
     "data": {
      "text/plain": [
       "-1"
      ]
     },
     "execution_count": 13,
     "metadata": {},
     "output_type": "execute_result"
    }
   ],
   "source": [
    "import cv2\n",
    "import sys\n",
    "import pathlib\n",
    "\n",
    "path = str(pathlib.Path().resolve()) + \"/\"\n",
    "sys.path.append(path)\n",
    "\n",
    "####################################################### \n",
    "# Activity 02 - Displaying the test image in an       #\n",
    "# window.                                             #\n",
    "#######################################################\n",
    "\n",
    "#\tcv2.IMREAD_COLOR or 1: Read the image in colour mode.\n",
    "#\tcv2.IMREAD_GRAYSCALE or 0: Read the image in grayscale mode.\n",
    "#\tcv2.IMREAD_UNCHANGED or -1: Read the image with alpha channels.\n",
    "\n",
    "testingImg = cv2.imread(path + \"test.png\", cv2.IMREAD_GRAYSCALE)\n",
    "\n",
    "print(path + \"test.png\")\n",
    "    \n",
    "cv2.imshow(\"My test image\", testingImg)\n",
    "cv2.waitKey(5000)\n",
    "cv2.destroyWindow(\"My test image\")\n",
    "cv2.waitKey(4) # some issues on MacOS to close the window\n",
    "cv2.destroyAllWindows()\n",
    "cv2.waitKey(4) "
   ]
  },
  {
   "cell_type": "markdown",
   "metadata": {},
   "source": [
    "# Activity 03 of workshop 01\n",
    "Date: 10/07/2021\n",
    "Author: Diego Bueno da Silva\n",
    "e-mail: d.bueno.da.silva.10@student.scu.edu.au\n",
    "ID: 23567850\n",
    "\n",
    " Practising OpenCV \n",
    "\n",
    "Credits: https://jspaint.app/\n",
    "\n",
    "Issue with MacOS:\n",
    "    https://github.com/mluerig/phenopype/issues/5\n",
    "    https://stackoverflow.com/questions/6116564/destroywindow-does-not-close-window-on-mac-using-python-and-opencv\n"
   ]
  },
  {
   "cell_type": "code",
   "execution_count": null,
   "metadata": {},
   "outputs": [],
   "source": [
    "import cv2\n",
    "import sys\n",
    "import pathlib\n",
    "\n",
    "path = str(pathlib.Path().resolve()) + \"/\"\n",
    "sys.path.append(path)\n",
    "\n",
    "####################################################### \n",
    "# Activity 03 - Creating a window named               #\n",
    "# 'My Test Image 2' and then display the image.       #\n",
    "#######################################################\n",
    "\n",
    "#\tcv2.IMREAD_COLOR or 1: Read the image in colour mode.\n",
    "#\tcv2.IMREAD_GRAYSCALE or 0: Read the image in grayscale mode.\n",
    "#\tcv2.IMREAD_UNCHANGED or -1: Read the image with alpha channels.\n",
    "\n",
    "testingImg = cv2.imread(path + \"test.png\", cv2.IMREAD_GRAYSCALE)\n",
    "\n",
    "# WINDOW_FULLSCREEN => doesn't work on MacOS\n",
    "cv2.namedWindow(\"My test image 2\", cv2.WINDOW_NORMAL)\n",
    "cv2.imshow(\"My first test image window\", testingImg)\n",
    "cv2.waitKey(5000)\n",
    "cv2.destroyWindow(\"My test image 2\")\n",
    "cv2.waitKey(4) # some issues on MacOS to close the window\n",
    "cv2.destroyAllWindows()\n",
    "cv2.waitKey(4) "
   ]
  },
  {
   "attachments": {},
   "cell_type": "markdown",
   "metadata": {},
   "source": [
    " # Activity 07 of workshop 01\n",
    "Date: 10/07/2021\n",
    "Author: Diego Bueno da Silva\n",
    "e-mail: d.bueno.da.silva.10@student.scu.edu.au\n",
    "ID: 23567850\n",
    "\n",
    "Reading imagem proprieties"
   ]
  },
  {
   "cell_type": "code",
   "execution_count": 5,
   "metadata": {},
   "outputs": [
    {
     "name": "stdout",
     "output_type": "stream",
     "text": [
      "262272\n",
      "uint8\n"
     ]
    }
   ],
   "source": [
    "import cv2\n",
    "import sys\n",
    "import pathlib\n",
    "\n",
    "path = str(pathlib.Path().resolve()) + \"/\"\n",
    "sys.path.append(path)\n",
    "\n",
    "####################################################### \n",
    "# Activity 03 - Creating a window named               #\n",
    "# 'My Test Image 2' and then display the image.       #\n",
    "#######################################################\n",
    "\n",
    "#\tcv2.IMREAD_COLOR or 1: Read the image in colour mode.\n",
    "#\tcv2.IMREAD_GRAYSCALE or 0: Read the image in grayscale mode.\n",
    "#\tcv2.IMREAD_UNCHANGED or -1: Read the image with alpha channels.\n",
    "\n",
    "testingImg = cv2.imread(path + \"test.png\", cv2.IMREAD_GRAYSCALE)\n",
    "\n",
    "print(testingImg.size)\n",
    "print(testingImg.dtype)\n"
   ]
  },
  {
   "attachments": {},
   "cell_type": "markdown",
   "metadata": {},
   "source": [
    " # Activity 14 of workshop 01\n",
    "Date: 10/07/2021\n",
    "Author: Diego Bueno da Silva\n",
    "e-mail: d.bueno.da.silva.10@student.scu.edu.au\n",
    "ID: 23567850\n",
    "\n",
    "Splitting and Merging Image Channels"
   ]
  },
  {
   "cell_type": "code",
   "execution_count": 1,
   "metadata": {},
   "outputs": [
    {
     "data": {
      "text/plain": [
       "-1"
      ]
     },
     "execution_count": 1,
     "metadata": {},
     "output_type": "execute_result"
    }
   ],
   "source": [
    "import cv2\n",
    "import sys\n",
    "import pathlib\n",
    "\n",
    "path = str(pathlib.Path().resolve()) + \"/\"\n",
    "sys.path.append(path)\n",
    "\n",
    "####################################################### \n",
    "# Activity 03 - Creating a window named               #\n",
    "# 'My Test Image 2' and then display the image.       #\n",
    "#######################################################\n",
    "\n",
    "#\tcv2.IMREAD_COLOR or 1: Read the image in colour mode.\n",
    "#\tcv2.IMREAD_GRAYSCALE or 0: Read the image in grayscale mode.\n",
    "#\tcv2.IMREAD_UNCHANGED or -1: Read the image with alpha channels.\n",
    "\n",
    "testimg = cv2.imread(path + \"test.png\", cv2.IMREAD_COLOR)\n",
    "\n",
    "b,g,r = cv2.split(testimg)\n",
    "testimg = cv2.merge((b,g,r)) # b = testimg[:,:,0]\n",
    "\n",
    "#For example, if you need to make all the blue pixels to zero, use the following code. \n",
    "#testimg[:,:,0] = 0\n",
    "\n",
    "cv2.imshow(\"My test image\", testimg)\n",
    "cv2.waitKey(5000)\n",
    "cv2.destroyWindow(\"My test image\")\n",
    "cv2.waitKey(4) # some issues on MacOS to close the window\n",
    "cv2.destroyAllWindows()\n",
    "cv2.waitKey(4)\n"
   ]
  },
  {
   "cell_type": "code",
   "execution_count": null,
   "metadata": {},
   "outputs": [],
   "source": []
  }
 ],
 "metadata": {
  "kernelspec": {
   "display_name": "Python 3",
   "language": "python",
   "name": "python3"
  },
  "language_info": {
   "codemirror_mode": {
    "name": "ipython",
    "version": 3
   },
   "file_extension": ".py",
   "mimetype": "text/x-python",
   "name": "python",
   "nbconvert_exporter": "python",
   "pygments_lexer": "ipython3",
   "version": "3.7.9"
  }
 },
 "nbformat": 4,
 "nbformat_minor": 4
}
